{
 "cells": [
  {
   "cell_type": "markdown",
   "id": "40c4e251",
   "metadata": {},
   "source": [
    "\n",
    "### Reglas generales del modelo\n",
    "-   Dos nonine no pueden ocupar la misma sección.\n",
    "-   Dos deddian no pueden ocupar la misma sección.\n",
    "-   Cada nonine solo puede comer hierba si no ha llegado a su máxima capacidad de comida.\n",
    "-   Un deddian no se comerá un nonine si ha sobrepasado su capacidad máxima de comida.\n",
    "-   Nonines y deddians solo puede reproducirse cuando han llegado a cierta edad y ha logrado una cierta capacidad de cimida.\n",
    "-   Un nonine no puede reproducirse si hay un deddian a su alrededor.\n",
    "-   Nonines y deddians solo pueden mover hacia arriba, abajo, izquierda o derecha de su posición actual.\n",
    "-   Nonines y deddians mueren si son muy viejos o si no han comido lo suficiente.\n",
    "-   La hierba tiene una tasa de crecimiento de 1 unidad/ciclo.\n",
    "\n",
    "### Reglas para los nonine\n",
    "-   Capacidad máxima de comida: 45 unidades.\n",
    "-   Tasa de metabolismo: 3 unidades/ciclo.\n",
    "-   Probilidad de reproducción en un ambiente adecuada: 50%\n",
    "-   Edad mínima de reproducción: 10 ciclos.\n",
    "-   Requisito mínimo de alimento para reproducirse: 40 unidades.\n",
    "-   Edad máxima: 25 etapas.\n",
    "-   Comida inicial: 10\n",
    "-   Un nonine le da un valor de comida de 10 a un deddian cuando se lo come.\n",
    "\n",
    "En cada ciclo,\n",
    "-   Un nonine se mueve aleatoriamente a uno de los cuatro campos vecinos, siempre que esté vacío (no existe otro nonine o deddian). Este movimiento le consume una cierta cantidad de la comida que ha ingerido. Si no hay celdas vecinas libres, no se produce movimiento.\n",
    "-   Si no ha llegado a su capacidad máxima de comida, consumirá toda lo que hay en ese campo (hasta el límite definido).\n",
    "-   Al superar su tiempo de reproducción predefidino, el nonine dará a a luz un nuevo nonine siempre y cuando tenga la energía necesaria y esté en un ambiente adecuado. El nuevo nonine se deberá generar en una celda vecina vacía. Si no se cumple alguno de estos requisitos, no se generará ningún nuevo nonine.\n",
    "\n",
    "### Reglas para los deddian\n",
    "\n",
    "-   Capacidad máxima de comida: 200 unidades.\n",
    "-   Tasa de metabolismo: 2 unidades/ciclo.\n",
    "-   Probilidad de reproducción en un ambiente adecuada: 50%\n",
    "-   Edad mínima de reproducción: 10 ciclos.\n",
    "-   Requisito mínimo de alimento para reproducirse: 120 unidades.\n",
    "-   Edad máxima: 50 etapas.\n",
    "-   Comida inicial: 150\n",
    "\n",
    "En cada ciclo,\n",
    "\n",
    "-   Un deddian se mueve aleatoriamente a uno de los cuatro campos vecinos, siempre que no haya otro deddian. Este movimiento le consume una cierta cantidad de la comida que ha ingerido. Si no hay celdas vecinas libres de deddians, no se produce movimiento.\n",
    "-   Si se encuentra con un nonine y no ha sobrepasado su capacidad máxima, se lo comerá. Obteniendo una cantidad de energía definida.\n",
    "-   Al superar su tiempo de reproducción predefidino, el deddian dará a a luz un nuevo deddian siempre y cuando tenga la energía necesaria y esté en un ambiente adecuado. El nuevo deddian se deberá generar en una celda vecina vacía. Si no se cumple alguno de estos requisitos, no se generará ningún nuevo deddian.\n",
    "\n",
    "## Condiciones de simulación\n",
    "-   El planeta tenga un ancho y alto de 35 celdas.\n",
    "-   Inicialmente, habrá 47 nonines y 15 deddians.\n",
    "-   Todos los campos empiezan con 20 unidades de hierba.\n",
    "-   La simulación se realizará durante 200 iteraciones.\n",
    "-   Deberá visualizar la evolución del modelo."
   ]
  },
  {
   "cell_type": "code",
   "execution_count": null,
   "id": "903811dc",
   "metadata": {},
   "outputs": [],
   "source": []
  },
  {
   "cell_type": "code",
   "execution_count": null,
   "id": "50727999",
   "metadata": {},
   "outputs": [],
   "source": []
  },
  {
   "cell_type": "code",
   "execution_count": null,
   "id": "cd9bf3fd",
   "metadata": {},
   "outputs": [],
   "source": []
  },
  {
   "cell_type": "code",
   "execution_count": null,
   "id": "565df3dd",
   "metadata": {},
   "outputs": [],
   "source": []
  },
  {
   "cell_type": "code",
   "execution_count": null,
   "id": "76c54f16",
   "metadata": {},
   "outputs": [],
   "source": []
  },
  {
   "cell_type": "code",
   "execution_count": null,
   "id": "e413e603",
   "metadata": {},
   "outputs": [],
   "source": []
  }
 ],
 "metadata": {
  "kernelspec": {
   "display_name": "Python 3",
   "language": "python",
   "name": "python3"
  },
  "language_info": {
   "codemirror_mode": {
    "name": "ipython",
    "version": 3
   },
   "file_extension": ".py",
   "mimetype": "text/x-python",
   "name": "python",
   "nbconvert_exporter": "python",
   "pygments_lexer": "ipython3",
   "version": "3.8.8"
  }
 },
 "nbformat": 4,
 "nbformat_minor": 5
}
